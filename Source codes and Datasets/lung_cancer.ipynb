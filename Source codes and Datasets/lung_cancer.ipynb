{
 "cells": [
  {
   "cell_type": "code",
   "execution_count": 1,
   "metadata": {},
   "outputs": [],
   "source": [
    "# Load libraries\n",
    "import numpy as np\n",
    "import pandas as pd\n",
    "from pandas.plotting import scatter_matrix\n",
    "import matplotlib.pyplot as plt\n",
    "from sklearn import model_selection\n",
    "from sklearn.metrics import classification_report\n",
    "from sklearn.metrics import confusion_matrix\n",
    "from sklearn.metrics import accuracy_score\n",
    "from sklearn.linear_model import LogisticRegression\n",
    "from sklearn.tree import DecisionTreeClassifier\n",
    "from sklearn.neighbors import KNeighborsClassifier\n",
    "from sklearn.discriminant_analysis import LinearDiscriminantAnalysis\n",
    "from sklearn.naive_bayes import GaussianNB\n",
    "from sklearn.svm import SVC\n",
    "from sklearn import decomposition, preprocessing, svm \n",
    "\n",
    "import seaborn as sns\n",
    "sns.set_style('darkgrid')\n",
    "import numpy as np\n",
    "from scipy.stats import norm\n",
    "from sklearn.preprocessing import StandardScaler\n",
    "from scipy import stats\n",
    "import warnings\n",
    "warnings.filterwarnings('ignore')\n",
    "%matplotlib inline\n",
    "\n",
    "from sklearn.model_selection import train_test_split\n",
    "from sklearn import ensemble\n",
    "from sklearn.metrics import mean_absolute_error\n",
    "from sklearn.externals import joblib"
   ]
  },
  {
   "cell_type": "code",
   "execution_count": 2,
   "metadata": {},
   "outputs": [
    {
     "data": {
      "text/html": [
       "<div>\n",
       "<style scoped>\n",
       "    .dataframe tbody tr th:only-of-type {\n",
       "        vertical-align: middle;\n",
       "    }\n",
       "\n",
       "    .dataframe tbody tr th {\n",
       "        vertical-align: top;\n",
       "    }\n",
       "\n",
       "    .dataframe thead th {\n",
       "        text-align: right;\n",
       "    }\n",
       "</style>\n",
       "<table border=\"1\" class=\"dataframe\">\n",
       "  <thead>\n",
       "    <tr style=\"text-align: right;\">\n",
       "      <th></th>\n",
       "      <th>Name</th>\n",
       "      <th>Surname</th>\n",
       "      <th>Age</th>\n",
       "      <th>Smokes</th>\n",
       "      <th>AreaQ</th>\n",
       "      <th>Alkhol</th>\n",
       "      <th>Result</th>\n",
       "    </tr>\n",
       "  </thead>\n",
       "  <tbody>\n",
       "    <tr>\n",
       "      <th>54</th>\n",
       "      <td>Ernest</td>\n",
       "      <td>Borgnine</td>\n",
       "      <td>26</td>\n",
       "      <td>13</td>\n",
       "      <td>6</td>\n",
       "      <td>1</td>\n",
       "      <td>0</td>\n",
       "    </tr>\n",
       "    <tr>\n",
       "      <th>55</th>\n",
       "      <td>Alec</td>\n",
       "      <td>Guinness</td>\n",
       "      <td>77</td>\n",
       "      <td>20</td>\n",
       "      <td>5</td>\n",
       "      <td>4</td>\n",
       "      <td>1</td>\n",
       "    </tr>\n",
       "    <tr>\n",
       "      <th>56</th>\n",
       "      <td>Charlton</td>\n",
       "      <td>Heston</td>\n",
       "      <td>75</td>\n",
       "      <td>15</td>\n",
       "      <td>3</td>\n",
       "      <td>5</td>\n",
       "      <td>1</td>\n",
       "    </tr>\n",
       "    <tr>\n",
       "      <th>57</th>\n",
       "      <td>Gregory</td>\n",
       "      <td>Peck</td>\n",
       "      <td>43</td>\n",
       "      <td>30</td>\n",
       "      <td>3</td>\n",
       "      <td>8</td>\n",
       "      <td>1</td>\n",
       "    </tr>\n",
       "    <tr>\n",
       "      <th>58</th>\n",
       "      <td>Sidney</td>\n",
       "      <td>Poitier</td>\n",
       "      <td>51</td>\n",
       "      <td>25</td>\n",
       "      <td>9</td>\n",
       "      <td>0</td>\n",
       "      <td>0</td>\n",
       "    </tr>\n",
       "  </tbody>\n",
       "</table>\n",
       "</div>"
      ],
      "text/plain": [
       "         Name   Surname  Age  Smokes  AreaQ  Alkhol  Result\n",
       "54    Ernest   Borgnine   26      13      6       1       0\n",
       "55      Alec   Guinness   77      20      5       4       1\n",
       "56  Charlton     Heston   75      15      3       5       1\n",
       "57   Gregory       Peck   43      30      3       8       1\n",
       "58    Sidney    Poitier   51      25      9       0       0"
      ]
     },
     "execution_count": 2,
     "metadata": {},
     "output_type": "execute_result"
    }
   ],
   "source": [
    "# Load dataset\n",
    "lung_data = pd.read_csv(\"data//lung_cancer.csv\")\n",
    "lung_data.tail()"
   ]
  },
  {
   "cell_type": "code",
   "execution_count": 3,
   "metadata": {},
   "outputs": [],
   "source": [
    "# Delete the Name and Surname columns\n",
    "del lung_data['Name']\n",
    "del lung_data['Surname']"
   ]
  },
  {
   "cell_type": "code",
   "execution_count": 4,
   "metadata": {},
   "outputs": [
    {
     "data": {
      "text/html": [
       "<div>\n",
       "<style scoped>\n",
       "    .dataframe tbody tr th:only-of-type {\n",
       "        vertical-align: middle;\n",
       "    }\n",
       "\n",
       "    .dataframe tbody tr th {\n",
       "        vertical-align: top;\n",
       "    }\n",
       "\n",
       "    .dataframe thead th {\n",
       "        text-align: right;\n",
       "    }\n",
       "</style>\n",
       "<table border=\"1\" class=\"dataframe\">\n",
       "  <thead>\n",
       "    <tr style=\"text-align: right;\">\n",
       "      <th></th>\n",
       "      <th>Age</th>\n",
       "      <th>Smokes</th>\n",
       "      <th>AreaQ</th>\n",
       "      <th>Alkhol</th>\n",
       "      <th>Result</th>\n",
       "    </tr>\n",
       "  </thead>\n",
       "  <tbody>\n",
       "    <tr>\n",
       "      <th>54</th>\n",
       "      <td>26</td>\n",
       "      <td>13</td>\n",
       "      <td>6</td>\n",
       "      <td>1</td>\n",
       "      <td>0</td>\n",
       "    </tr>\n",
       "    <tr>\n",
       "      <th>55</th>\n",
       "      <td>77</td>\n",
       "      <td>20</td>\n",
       "      <td>5</td>\n",
       "      <td>4</td>\n",
       "      <td>1</td>\n",
       "    </tr>\n",
       "    <tr>\n",
       "      <th>56</th>\n",
       "      <td>75</td>\n",
       "      <td>15</td>\n",
       "      <td>3</td>\n",
       "      <td>5</td>\n",
       "      <td>1</td>\n",
       "    </tr>\n",
       "    <tr>\n",
       "      <th>57</th>\n",
       "      <td>43</td>\n",
       "      <td>30</td>\n",
       "      <td>3</td>\n",
       "      <td>8</td>\n",
       "      <td>1</td>\n",
       "    </tr>\n",
       "    <tr>\n",
       "      <th>58</th>\n",
       "      <td>51</td>\n",
       "      <td>25</td>\n",
       "      <td>9</td>\n",
       "      <td>0</td>\n",
       "      <td>0</td>\n",
       "    </tr>\n",
       "  </tbody>\n",
       "</table>\n",
       "</div>"
      ],
      "text/plain": [
       "    Age  Smokes  AreaQ  Alkhol  Result\n",
       "54   26      13      6       1       0\n",
       "55   77      20      5       4       1\n",
       "56   75      15      3       5       1\n",
       "57   43      30      3       8       1\n",
       "58   51      25      9       0       0"
      ]
     },
     "execution_count": 4,
     "metadata": {},
     "output_type": "execute_result"
    }
   ],
   "source": [
    "lung_data.tail()"
   ]
  },
  {
   "cell_type": "code",
   "execution_count": 5,
   "metadata": {},
   "outputs": [
    {
     "name": "stdout",
     "output_type": "stream",
     "text": [
      "(59, 5)\n"
     ]
    }
   ],
   "source": [
    "# Shape \n",
    "print(lung_data.shape)"
   ]
  },
  {
   "cell_type": "code",
   "execution_count": 6,
   "metadata": {},
   "outputs": [
    {
     "data": {
      "text/html": [
       "<div>\n",
       "<style scoped>\n",
       "    .dataframe tbody tr th:only-of-type {\n",
       "        vertical-align: middle;\n",
       "    }\n",
       "\n",
       "    .dataframe tbody tr th {\n",
       "        vertical-align: top;\n",
       "    }\n",
       "\n",
       "    .dataframe thead th {\n",
       "        text-align: right;\n",
       "    }\n",
       "</style>\n",
       "<table border=\"1\" class=\"dataframe\">\n",
       "  <thead>\n",
       "    <tr style=\"text-align: right;\">\n",
       "      <th></th>\n",
       "      <th>Age</th>\n",
       "      <th>Smokes</th>\n",
       "      <th>AreaQ</th>\n",
       "      <th>Alkhol</th>\n",
       "      <th>Result</th>\n",
       "    </tr>\n",
       "  </thead>\n",
       "  <tbody>\n",
       "    <tr>\n",
       "      <th>count</th>\n",
       "      <td>59.000000</td>\n",
       "      <td>59.000000</td>\n",
       "      <td>59.000000</td>\n",
       "      <td>59.000000</td>\n",
       "      <td>59.000000</td>\n",
       "    </tr>\n",
       "    <tr>\n",
       "      <th>mean</th>\n",
       "      <td>42.627119</td>\n",
       "      <td>15.067797</td>\n",
       "      <td>5.203390</td>\n",
       "      <td>3.237288</td>\n",
       "      <td>0.474576</td>\n",
       "    </tr>\n",
       "    <tr>\n",
       "      <th>std</th>\n",
       "      <td>16.235230</td>\n",
       "      <td>7.984607</td>\n",
       "      <td>2.461984</td>\n",
       "      <td>2.380517</td>\n",
       "      <td>0.503640</td>\n",
       "    </tr>\n",
       "    <tr>\n",
       "      <th>min</th>\n",
       "      <td>18.000000</td>\n",
       "      <td>0.000000</td>\n",
       "      <td>1.000000</td>\n",
       "      <td>0.000000</td>\n",
       "      <td>0.000000</td>\n",
       "    </tr>\n",
       "    <tr>\n",
       "      <th>25%</th>\n",
       "      <td>29.000000</td>\n",
       "      <td>10.000000</td>\n",
       "      <td>3.000000</td>\n",
       "      <td>1.000000</td>\n",
       "      <td>0.000000</td>\n",
       "    </tr>\n",
       "    <tr>\n",
       "      <th>50%</th>\n",
       "      <td>39.000000</td>\n",
       "      <td>15.000000</td>\n",
       "      <td>5.000000</td>\n",
       "      <td>3.000000</td>\n",
       "      <td>0.000000</td>\n",
       "    </tr>\n",
       "    <tr>\n",
       "      <th>75%</th>\n",
       "      <td>55.000000</td>\n",
       "      <td>20.000000</td>\n",
       "      <td>7.500000</td>\n",
       "      <td>5.000000</td>\n",
       "      <td>1.000000</td>\n",
       "    </tr>\n",
       "    <tr>\n",
       "      <th>max</th>\n",
       "      <td>77.000000</td>\n",
       "      <td>34.000000</td>\n",
       "      <td>10.000000</td>\n",
       "      <td>8.000000</td>\n",
       "      <td>1.000000</td>\n",
       "    </tr>\n",
       "  </tbody>\n",
       "</table>\n",
       "</div>"
      ],
      "text/plain": [
       "             Age     Smokes      AreaQ     Alkhol     Result\n",
       "count  59.000000  59.000000  59.000000  59.000000  59.000000\n",
       "mean   42.627119  15.067797   5.203390   3.237288   0.474576\n",
       "std    16.235230   7.984607   2.461984   2.380517   0.503640\n",
       "min    18.000000   0.000000   1.000000   0.000000   0.000000\n",
       "25%    29.000000  10.000000   3.000000   1.000000   0.000000\n",
       "50%    39.000000  15.000000   5.000000   3.000000   0.000000\n",
       "75%    55.000000  20.000000   7.500000   5.000000   1.000000\n",
       "max    77.000000  34.000000  10.000000   8.000000   1.000000"
      ]
     },
     "execution_count": 6,
     "metadata": {},
     "output_type": "execute_result"
    }
   ],
   "source": [
    "# Statistical description\n",
    "lung_data.describe()\n",
    "\n",
    "# From this, can tell that there is no missing data"
   ]
  },
  {
   "cell_type": "code",
   "execution_count": 7,
   "metadata": {},
   "outputs": [
    {
     "name": "stdout",
     "output_type": "stream",
     "text": [
      "Result\n",
      "0    31\n",
      "1    28\n",
      "dtype: int64\n"
     ]
    }
   ],
   "source": [
    "# Class distribution to see how many are prone to heart attacks by the 'num' feature\n",
    "print(lung_data.groupby('Result').size())"
   ]
  },
  {
   "cell_type": "code",
   "execution_count": 8,
   "metadata": {},
   "outputs": [
    {
     "data": {
      "text/plain": [
       "<matplotlib.axes._subplots.AxesSubplot at 0x248998839b0>"
      ]
     },
     "execution_count": 8,
     "metadata": {},
     "output_type": "execute_result"
    },
    {
     "data": {
      "image/png": "[encoded data removed]",
      "text/plain": [
       "<Figure size 1440x2880 with 4 Axes>"
      ]
     },
     "metadata": {},
     "output_type": "display_data"
    }
   ],
   "source": [
    "fig, (ax1,ax2,ax3,ax4) = plt.subplots(4,1,figsize=(20,40))\n",
    "sns.countplot(x='Age', data=lung_data, ax=ax1)\n",
    "sns.countplot(x='Smokes', data=lung_data, ax=ax2)\n",
    "sns.countplot(x='AreaQ', data=lung_data, ax=ax3)\n",
    "sns.countplot(x='Alkhol', data=lung_data, ax=ax4)"
   ]
  },
  {
   "cell_type": "code",
   "execution_count": 9,
   "metadata": {},
   "outputs": [
    {
     "data": {
      "image/png": "[encoded data removed]",
      "text/plain": [
       "<Figure size 1440x1440 with 2 Axes>"
      ]
     },
     "metadata": {},
     "output_type": "display_data"
    }
   ],
   "source": [
    "# data = pd.read_csv(\"new_heart_attack.csv\")\n",
    "\n",
    "# Features\n",
    "X = lung_data.iloc[:,0:4]  \n",
    "# Classes / target\n",
    "y = lung_data.iloc[:,-1]    \n",
    "\n",
    "# Get correlations of each features in dataset\n",
    "corrmat = lung_data.corr()\n",
    "top_corr_features = corrmat.index\n",
    "plt.figure(figsize=(20,20))\n",
    "\n",
    "# Plot heat map\n",
    "g=sns.heatmap(lung_data[top_corr_features].corr(),annot=True,cmap=\"RdYlGn\")\n",
    "\n",
    "# Last row i.e Result, \n",
    "# Result is correlated with other features, \n",
    "# the features in order of correlation with Result are: \n",
    "# -- Alkhol (0.81)\n",
    "# -- AreaQ (-0.75)\n",
    "# -- Age (0.64)\n",
    "# -- Smokes (0.37)\n",
    "\n",
    "# All the features are not insignificant enough to remove - hence I will not delete any feature."
   ]
  },
  {
   "cell_type": "code",
   "execution_count": 10,
   "metadata": {},
   "outputs": [],
   "source": [
    "#Shuffle the data \n",
    "np.random.seed(18)\n",
    "lung_data_shuffle = lung_data.iloc[np.random.permutation(len(lung_data))]"
   ]
  },
  {
   "cell_type": "code",
   "execution_count": 11,
   "metadata": {},
   "outputs": [
    {
     "data": {
      "text/plain": [
       "Index(['Age', 'Smokes', 'AreaQ', 'Alkhol', 'Result'], dtype='object')"
      ]
     },
     "execution_count": 11,
     "metadata": {},
     "output_type": "execute_result"
    }
   ],
   "source": [
    "lung_data_shuffle.columns"
   ]
  },
  {
   "cell_type": "code",
   "execution_count": 12,
   "metadata": {},
   "outputs": [
    {
     "data": {
      "text/plain": [
       "array([[37, 10,  5,  3],\n",
       "       [25, 20,  8,  2],\n",
       "       [56, 20,  3,  3],\n",
       "       [22, 12,  5,  2],\n",
       "       [22, 20,  6,  2],\n",
       "       [25,  2,  5,  1],\n",
       "       [21, 20,  5,  3],\n",
       "       [50, 20,  2,  4],\n",
       "       [40, 20,  2,  7],\n",
       "       [55, 15,  1,  3],\n",
       "       [53, 20,  6,  3],\n",
       "       [42, 22,  3,  5],\n",
       "       [43, 30,  3,  8],\n",
       "       [55, 20,  1,  4],\n",
       "       [47, 12,  8,  0],\n",
       "       [26, 13,  6,  1],\n",
       "       [28, 10,  4,  1],\n",
       "       [62, 25,  3,  4],\n",
       "       [44, 30,  1,  6],\n",
       "       [37, 15,  6,  2],\n",
       "       [39, 15,  7,  2],\n",
       "       [44,  5,  8,  1],\n",
       "       [36, 13,  5,  2],\n",
       "       [33, 25,  8,  2],\n",
       "       [39, 18,  8,  1],\n",
       "       [34, 12,  8,  0],\n",
       "       [63, 20,  4,  5],\n",
       "       [47, 15,  1,  8],\n",
       "       [62, 15,  5,  5],\n",
       "       [35,  3,  5,  4],\n",
       "       [62,  5,  4,  3],\n",
       "       [26, 34,  1,  8],\n",
       "       [28, 20,  2,  8],\n",
       "       [21, 20,  8,  3],\n",
       "       [58, 15, 10,  0],\n",
       "       [34, 25,  4,  8],\n",
       "       [35, 20,  5,  1],\n",
       "       [52, 18,  4,  5],\n",
       "       [28,  0,  8,  1],\n",
       "       [27, 20,  2,  5],\n",
       "       [68,  4,  5,  6],\n",
       "       [59, 20,  3,  4],\n",
       "       [18, 10,  6,  3],\n",
       "       [33,  4,  8,  0],\n",
       "       [51, 25,  9,  0],\n",
       "       [33,  8,  8,  1],\n",
       "       [77, 20,  5,  4],\n",
       "       [19, 12,  8,  0],\n",
       "       [26, 10,  7,  2],\n",
       "       [77,  3,  2,  6],\n",
       "       [45,  2,  6,  0],\n",
       "       [30,  0,  5,  2],\n",
       "       [42, 12,  6,  2],\n",
       "       [31, 20,  9,  4],\n",
       "       [62, 20,  5,  6],\n",
       "       [34,  0, 10,  0],\n",
       "       [75, 15,  3,  5],\n",
       "       [73, 10,  7,  6],\n",
       "       [69, 20,  5,  4]], dtype=int64)"
      ]
     },
     "execution_count": 12,
     "metadata": {},
     "output_type": "execute_result"
    }
   ],
   "source": [
    "# Convert the Pandas dataframes into numpy arrays that can be used by scikit_learn\n",
    "all_data = lung_data_shuffle[['Age', 'Smokes', 'AreaQ', 'Alkhol', 'Result']].values\n",
    "\n",
    "# Create array of only the feature data \n",
    "features = lung_data_shuffle[['Age', 'Smokes', 'AreaQ', 'Alkhol']].values\n",
    "\n",
    "# Separate array to contain target\n",
    "results = lung_data_shuffle['Result'].values\n",
    "\n",
    "# Also need array of the feature names - this will help later when exploring the data\n",
    "feature_names = ['Age', 'Smokes', 'AreaQ', 'Alkhol']\n",
    "\n",
    "# print the features array of feature data\n",
    "features"
   ]
  },
  {
   "cell_type": "code",
   "execution_count": 13,
   "metadata": {},
   "outputs": [],
   "source": [
    "# Save the new heart attack data csv\n",
    "df = pd.DataFrame(all_data, columns = ['Age', 'Smokes', 'AreaQ', 'Alkhol', 'Result'])\n",
    "\n",
    "df.to_csv('new_lung_cancer.csv')"
   ]
  },
  {
   "cell_type": "code",
   "execution_count": 14,
   "metadata": {},
   "outputs": [
    {
     "data": {
      "text/plain": [
       "array([[-0.34957441, -0.64014396, -0.08332128, -0.10053487],\n",
       "       [-1.09505236,  0.62301636,  1.14566759, -0.52421755],\n",
       "       [ 0.83076568,  0.62301636, -0.9026472 , -0.10053487],\n",
       "       [-1.28142185, -0.3875119 , -0.08332128, -0.52421755],\n",
       "       [-1.28142185,  0.62301636,  0.32634168, -0.52421755],\n",
       "       [-1.09505236, -1.65067222, -0.08332128, -0.94790023],\n",
       "       [-1.34354501,  0.62301636, -0.08332128, -0.10053487],\n",
       "       [ 0.45802671,  0.62301636, -1.31231015,  0.32314781],\n",
       "       [-0.16320492,  0.62301636, -1.31231015,  1.59419585],\n",
       "       [ 0.76864252, -0.0085638 , -1.72197311, -0.10053487],\n",
       "       [ 0.6443962 ,  0.62301636,  0.32634168, -0.10053487],\n",
       "       [-0.03895859,  0.87564843, -0.9026472 ,  0.74683049],\n",
       "       [ 0.02316457,  1.88617669, -0.9026472 ,  2.01787853],\n",
       "       [ 0.76864252,  0.62301636, -1.72197311,  0.32314781],\n",
       "       [ 0.27165722, -0.3875119 ,  1.14566759, -1.37158291],\n",
       "       [-1.0329292 , -0.26119586,  0.32634168, -0.94790023],\n",
       "       [-0.90868287, -0.64014396, -0.49298424, -0.94790023],\n",
       "       [ 1.20350466,  1.25459653, -0.9026472 ,  0.32314781],\n",
       "       [ 0.08528773,  1.88617669, -1.72197311,  1.17051317],\n",
       "       [-0.34957441, -0.0085638 ,  0.32634168, -0.52421755],\n",
       "       [-0.22532808, -0.0085638 ,  0.73600464, -0.52421755],\n",
       "       [ 0.08528773, -1.27172413,  1.14566759, -0.94790023],\n",
       "       [-0.41169757, -0.26119586, -0.08332128, -0.52421755],\n",
       "       [-0.59806706,  1.25459653,  1.14566759, -0.52421755],\n",
       "       [-0.22532808,  0.3703843 ,  1.14566759, -0.94790023],\n",
       "       [-0.5359439 , -0.3875119 ,  1.14566759, -1.37158291],\n",
       "       [ 1.26562782,  0.62301636, -0.49298424,  0.74683049],\n",
       "       [ 0.27165722, -0.0085638 , -1.72197311,  2.01787853],\n",
       "       [ 1.20350466, -0.0085638 , -0.08332128,  0.74683049],\n",
       "       [-0.47382073, -1.52435619, -0.08332128,  0.32314781],\n",
       "       [ 1.20350466, -1.27172413, -0.49298424, -0.10053487],\n",
       "       [-1.0329292 ,  2.39144082, -1.72197311,  2.01787853],\n",
       "       [-0.90868287,  0.62301636, -1.31231015,  2.01787853],\n",
       "       [-1.34354501,  0.62301636,  1.14566759, -0.10053487],\n",
       "       [ 0.95501201, -0.0085638 ,  1.96499351, -1.37158291],\n",
       "       [-0.5359439 ,  1.25459653, -0.49298424,  2.01787853],\n",
       "       [-0.47382073,  0.62301636, -0.08332128, -0.94790023],\n",
       "       [ 0.58227303,  0.3703843 , -0.49298424,  0.74683049],\n",
       "       [-0.90868287, -1.90330429,  1.14566759, -0.94790023],\n",
       "       [-0.97080603,  0.62301636, -1.31231015,  0.74683049],\n",
       "       [ 1.57624364, -1.39804016, -0.08332128,  1.17051317],\n",
       "       [ 1.01713517,  0.62301636, -0.9026472 ,  0.32314781],\n",
       "       [-1.5299145 , -0.64014396,  0.32634168, -0.10053487],\n",
       "       [-0.59806706, -1.39804016,  1.14566759, -1.37158291],\n",
       "       [ 0.52014987,  1.25459653,  1.55533055, -1.37158291],\n",
       "       [-0.59806706, -0.89277603,  1.14566759, -0.94790023],\n",
       "       [ 2.1353521 ,  0.62301636, -0.08332128,  0.32314781],\n",
       "       [-1.46779134, -0.3875119 ,  1.14566759, -1.37158291],\n",
       "       [-1.0329292 , -0.64014396,  0.73600464, -0.52421755],\n",
       "       [ 2.1353521 , -1.52435619, -1.31231015,  1.17051317],\n",
       "       [ 0.14741089, -1.65067222,  0.32634168, -1.37158291],\n",
       "       [-0.78443655, -1.90330429, -0.08332128, -0.52421755],\n",
       "       [-0.03895859, -0.3875119 ,  0.32634168, -0.52421755],\n",
       "       [-0.72231338,  0.62301636,  1.55533055,  0.32314781],\n",
       "       [ 1.20350466,  0.62301636, -0.08332128,  1.17051317],\n",
       "       [-0.5359439 , -1.90330429,  1.96499351, -1.37158291],\n",
       "       [ 2.01110578, -0.0085638 , -0.9026472 ,  0.74683049],\n",
       "       [ 1.88685945, -0.64014396,  0.73600464,  1.17051317],\n",
       "       [ 1.6383668 ,  0.62301636, -0.08332128,  0.32314781]])"
      ]
     },
     "execution_count": 14,
     "metadata": {},
     "output_type": "execute_result"
    }
   ],
   "source": [
    "# Normalize the attribute data using preprocessing.StandardScaler() \n",
    "# Normalization means adjusting values measured on different scales to a common scale\n",
    "from sklearn import preprocessing\n",
    "\n",
    "scaler = preprocessing.StandardScaler()\n",
    "features_scaled = scaler.fit_transform(features)\n",
    "features_scaled\n",
    "\n",
    "# scaler has calculated the mean and scaling factor to standardize each feature"
   ]
  },
  {
   "cell_type": "code",
   "execution_count": 15,
   "metadata": {},
   "outputs": [
    {
     "data": {
      "text/plain": [
       "array([42.62711864, 15.06779661,  5.20338983,  3.23728814])"
      ]
     },
     "execution_count": 15,
     "metadata": {},
     "output_type": "execute_result"
    }
   ],
   "source": [
    "scaler_mean = scaler.mean_\n",
    "scaler_mean"
   ]
  },
  {
   "cell_type": "code",
   "execution_count": 16,
   "metadata": {},
   "outputs": [
    {
     "data": {
      "text/plain": [
       "array([16.09705553,  7.91665142,  2.44103105,  2.36025697])"
      ]
     },
     "execution_count": 16,
     "metadata": {},
     "output_type": "execute_result"
    }
   ],
   "source": [
    "scaler_scale = scaler.scale_  \n",
    "scaler_scale"
   ]
  },
  {
   "cell_type": "code",
   "execution_count": 17,
   "metadata": {},
   "outputs": [],
   "source": [
    "# Split the data into the sets for training and testing \n",
    "import numpy\n",
    "from sklearn.model_selection import train_test_split\n",
    "    \n",
    "seed = 18\n",
    "\n",
    "(training_inputs,\n",
    " testing_inputs,\n",
    " training_results,\n",
    " testing_results) = train_test_split(features_scaled, \n",
    "                                     results, \n",
    "                                     test_size=0.20, \n",
    "                                     train_size=0.80, \n",
    "                                     random_state=seed)\n"
   ]
  },
  {
   "cell_type": "code",
   "execution_count": 18,
   "metadata": {},
   "outputs": [
    {
     "data": {
      "text/plain": [
       "DecisionTreeClassifier(class_weight=None, criterion='gini', max_depth=None,\n",
       "            max_features=None, max_leaf_nodes=None,\n",
       "            min_impurity_decrease=0.0, min_impurity_split=None,\n",
       "            min_samples_leaf=1, min_samples_split=2,\n",
       "            min_weight_fraction_leaf=0.0, presort=False, random_state=1,\n",
       "            splitter='best')"
      ]
     },
     "execution_count": 18,
     "metadata": {},
     "output_type": "execute_result"
    }
   ],
   "source": [
    "# DecisionTreeClassifier, fit to training data\n",
    "clf= DecisionTreeClassifier(random_state=1)\n",
    "\n",
    "# Train the classifier on the training set\n",
    "clf.fit(training_inputs, training_results)"
   ]
  },
  {
   "cell_type": "code",
   "execution_count": 19,
   "metadata": {},
   "outputs": [
    {
     "data": {
      "image/png": "[encoded data removed]",
      "text/plain": [
       "<IPython.core.display.Image object>"
      ]
     },
     "execution_count": 19,
     "metadata": {},
     "output_type": "execute_result"
    }
   ],
   "source": [
    "# Display the resulting decision tree\n",
    "from IPython.display import Image  \n",
    "from sklearn.externals.six import StringIO  \n",
    "from sklearn import tree\n",
    "from pydotplus import graph_from_dot_data \n",
    "\n",
    "dot_data = StringIO()  \n",
    "tree.export_graphviz(clf, out_file=dot_data, feature_names=feature_names)  \n",
    "graph = graph_from_dot_data(dot_data.getvalue())  \n",
    "Image(graph.create_png())  "
   ]
  },
  {
   "cell_type": "code",
   "execution_count": 20,
   "metadata": {},
   "outputs": [
    {
     "data": {
      "text/plain": [
       "0.8333333333333334"
      ]
     },
     "execution_count": 20,
     "metadata": {},
     "output_type": "execute_result"
    }
   ],
   "source": [
    "# Using test data to measure the accuracy of the decision tree model \n",
    "clf.score(testing_inputs, testing_results)"
   ]
  },
  {
   "cell_type": "code",
   "execution_count": 21,
   "metadata": {},
   "outputs": [
    {
     "data": {
      "text/plain": [
       "0.949047619047619"
      ]
     },
     "execution_count": 21,
     "metadata": {},
     "output_type": "execute_result"
    }
   ],
   "source": [
    "# Using K-Fold cross validation to measure of your model's accuracy (K=10)\n",
    "from sklearn.model_selection import cross_val_score\n",
    "\n",
    "clf = DecisionTreeClassifier(random_state=seed)\n",
    "cv_scores = cross_val_score(clf, features_scaled, results, cv=10)\n",
    "cv_scores.mean()"
   ]
  },
  {
   "cell_type": "code",
   "execution_count": 22,
   "metadata": {},
   "outputs": [
    {
     "data": {
      "text/plain": [
       "0.949047619047619"
      ]
     },
     "execution_count": 22,
     "metadata": {},
     "output_type": "execute_result"
    }
   ],
   "source": [
    "# Using RandomForestClassifier \n",
    "from sklearn.ensemble import RandomForestClassifier\n",
    "\n",
    "clf = RandomForestClassifier(n_estimators=10, random_state=seed)\n",
    "cv_scores = cross_val_score(clf, features_scaled, results, cv=10)\n",
    "cv_scores.mean()"
   ]
  },
  {
   "cell_type": "code",
   "execution_count": 23,
   "metadata": {},
   "outputs": [
    {
     "data": {
      "text/plain": [
       "0.9666666666666668"
      ]
     },
     "execution_count": 23,
     "metadata": {},
     "output_type": "execute_result"
    }
   ],
   "source": [
    "# SVM\n",
    "from sklearn import svm\n",
    "\n",
    "C = 1.0\n",
    "svc = svm.SVC(kernel='linear', C=C)\n",
    "\n",
    "cv_scores = cross_val_score(svc, features_scaled, results, cv=10)\n",
    "\n",
    "cv_scores.mean()"
   ]
  },
  {
   "cell_type": "code",
   "execution_count": 24,
   "metadata": {},
   "outputs": [
    {
     "data": {
      "text/plain": [
       "0.9833333333333334"
      ]
     },
     "execution_count": 24,
     "metadata": {},
     "output_type": "execute_result"
    }
   ],
   "source": [
    "# KNeighborsClassifier\n",
    "from sklearn import neighbors\n",
    "\n",
    "clf = neighbors.KNeighborsClassifier(n_neighbors=10)\n",
    "cv_scores = cross_val_score(clf, features_scaled, results, cv=10)\n",
    "\n",
    "cv_scores.mean()"
   ]
  },
  {
   "cell_type": "code",
   "execution_count": 25,
   "metadata": {},
   "outputs": [
    {
     "name": "stdout",
     "output_type": "stream",
     "text": [
      "1 0.9833333333333334\n",
      "2 0.9666666666666666\n",
      "3 0.9833333333333334\n",
      "4 0.9666666666666666\n",
      "5 0.9833333333333334\n",
      "6 0.9833333333333334\n",
      "7 0.9833333333333334\n",
      "8 0.9833333333333334\n",
      "9 0.9833333333333334\n"
     ]
    }
   ],
   "source": [
    "# Trying different values of K for KNN \n",
    "# Using for loop to run KNN with K values ranging from 1 to 10 \n",
    "# See if K makes a substantial difference. \n",
    "\n",
    "for i in range(1, 10):\n",
    "    clf = neighbors.KNeighborsClassifier(n_neighbors=i)\n",
    "    cv_scores = cross_val_score(clf, features_scaled, results, cv=10)\n",
    "    print (i, cv_scores.mean())\n",
    "    \n",
    "# Same"
   ]
  },
  {
   "cell_type": "code",
   "execution_count": 26,
   "metadata": {},
   "outputs": [
    {
     "data": {
      "text/plain": [
       "0.9666666666666668"
      ]
     },
     "execution_count": 26,
     "metadata": {},
     "output_type": "execute_result"
    }
   ],
   "source": [
    "# Naive Bayes\n",
    "from sklearn.naive_bayes import MultinomialNB\n",
    "\n",
    "scaler = preprocessing.MinMaxScaler()\n",
    "features_minmax = scaler.fit_transform(features)\n",
    "\n",
    "clf = MultinomialNB()\n",
    "cv_scores = cross_val_score(clf, features_minmax, results, cv=10)\n",
    "\n",
    "cv_scores.mean()"
   ]
  },
  {
   "cell_type": "code",
   "execution_count": 27,
   "metadata": {},
   "outputs": [
    {
     "data": {
      "text/plain": [
       "0.9833333333333334"
      ]
     },
     "execution_count": 27,
     "metadata": {},
     "output_type": "execute_result"
    }
   ],
   "source": [
    "#GaussianNB\n",
    "clf = GaussianNB()\n",
    "cv_scores = cross_val_score(clf, features_scaled, results, cv=10)\n",
    "cv_scores.mean()"
   ]
  },
  {
   "cell_type": "code",
   "execution_count": 28,
   "metadata": {},
   "outputs": [
    {
     "data": {
      "text/plain": [
       "0.9833333333333334"
      ]
     },
     "execution_count": 28,
     "metadata": {},
     "output_type": "execute_result"
    }
   ],
   "source": [
    "# Logistic Regression \n",
    "clf = LogisticRegression()\n",
    "cv_scores = cross_val_score(clf, features_scaled, results, cv=10)\n",
    "cv_scores.mean()"
   ]
  },
  {
   "cell_type": "code",
   "execution_count": 29,
   "metadata": {},
   "outputs": [
    {
     "data": {
      "text/plain": [
       "0.9833333333333334"
      ]
     },
     "execution_count": 29,
     "metadata": {},
     "output_type": "execute_result"
    }
   ],
   "source": [
    "# LinearDiscriminantAnalysis\n",
    "clf = LinearDiscriminantAnalysis()\n",
    "cv_scores = cross_val_score(clf, features_scaled, results, cv=10)\n",
    "cv_scores.mean()"
   ]
  },
  {
   "cell_type": "code",
   "execution_count": 30,
   "metadata": {},
   "outputs": [],
   "source": [
    "# DecisionTreeClassifier: 0.949047619047619\n",
    "# RandomForestClassifier: 0.949047619047619\n",
    "# SVM: 0.9666666666666668\n",
    "# KNeighborsClassifier: 0.9833333333333334\n",
    "# Naive Bayes: 0.9666666666666668\n",
    "# GaussianNB: 0.9833333333333334\n",
    "# Logistic Regression: 0.9833333333333334\n",
    "# LinearDiscriminantAnalysis: 0.9833333333333334\n",
    "\n",
    "# The best algorithms are KNeighborsClassifier, GaussianNB, Logistic Regression and LinearDiscriminantAnalysis"
   ]
  },
  {
   "cell_type": "code",
   "execution_count": 31,
   "metadata": {},
   "outputs": [
    {
     "name": "stdout",
     "output_type": "stream",
     "text": [
      "Accuracy:\n",
      "0.9166666666666666\n",
      "\n",
      "Confusion matrix:\n",
      "[[5 0]\n",
      " [1 6]]\n",
      "\n",
      "Classification report:\n",
      "             precision    recall  f1-score   support\n",
      "\n",
      "          0       0.83      1.00      0.91         5\n",
      "          1       1.00      0.86      0.92         7\n",
      "\n",
      "avg / total       0.93      0.92      0.92        12\n",
      "\n"
     ]
    }
   ],
   "source": [
    "# Will use GaussianNB because it is said to be fast, simple and popular \n",
    "# (https://medium.com/@LSchultebraucks/gaussian-naive-bayes-19156306079b)\n",
    "gnb = GaussianNB()\n",
    "\n",
    "gnb.fit(training_inputs, training_results)\n",
    "predictions = gnb.predict(testing_inputs)\n",
    "print(\"Accuracy:\")\n",
    "print(accuracy_score(testing_results, predictions))\n",
    "print()\n",
    "print(\"Confusion matrix:\")\n",
    "print(confusion_matrix(testing_results, predictions))\n",
    "print()\n",
    "print(\"Classification report:\")\n",
    "print(classification_report(testing_results, predictions))"
   ]
  },
  {
   "cell_type": "code",
   "execution_count": 32,
   "metadata": {},
   "outputs": [],
   "source": [
    "import pickle\n",
    "\n",
    "pickle.dump(gnb, open('models//trained_lung_cancer_model.pkl', 'wb'))"
   ]
  },
  {
   "cell_type": "code",
   "execution_count": 33,
   "metadata": {},
   "outputs": [
    {
     "data": {
      "text/plain": [
       "GaussianNB(priors=None)"
      ]
     },
     "execution_count": 33,
     "metadata": {},
     "output_type": "execute_result"
    }
   ],
   "source": [
    "gnb_model = pickle.load(open('models//trained_lung_cancer_model.pkl', 'rb'))\n",
    "\n",
    "gnb_model"
   ]
  },
  {
   "cell_type": "code",
   "execution_count": 34,
   "metadata": {},
   "outputs": [
    {
     "name": "stdout",
     "output_type": "stream",
     "text": [
      "             precision    recall  f1-score   support\n",
      "\n",
      "          0       0.83      1.00      0.91         5\n",
      "          1       1.00      0.86      0.92         7\n",
      "\n",
      "avg / total       0.93      0.92      0.92        12\n",
      "\n"
     ]
    }
   ],
   "source": [
    "print(classification_report(testing_results, gnb_model.predict(testing_inputs)))\n",
    "# To prove that it is the same model that was saved (dumped) and loaded"
   ]
  },
  {
   "cell_type": "code",
   "execution_count": 35,
   "metadata": {},
   "outputs": [
    {
     "name": "stdout",
     "output_type": "stream",
     "text": [
      "Training Set Mean Absolute Error: 0.0000\n",
      "Test Set Mean Absolute Error: 0.0833\n"
     ]
    }
   ],
   "source": [
    "#--- Find the error rate on the training set to check accuracy of our models predictions\n",
    "mse = mean_absolute_error(training_results, gnb_model.predict(training_inputs))\n",
    "print(\"Training Set Mean Absolute Error: %.4f\" % mse)\n",
    "\n",
    "\n",
    "#--- Find the error rate on the test set\n",
    "mse = mean_absolute_error(testing_results, gnb_model.predict(testing_inputs))\n",
    "print(\"Test Set Mean Absolute Error: %.4f\" % mse)"
   ]
  },
  {
   "cell_type": "code",
   "execution_count": 36,
   "metadata": {},
   "outputs": [
    {
     "data": {
      "text/plain": [
       "array([[ 0.89288885, -0.3875119 , -0.49298424, -0.94790023]])"
      ]
     },
     "execution_count": 36,
     "metadata": {},
     "output_type": "execute_result"
    }
   ],
   "source": [
    "# Inputs\n",
    "# -- Age (age in years)\n",
    "# -- Smokes (number of cigarettes smoked in a week)\n",
    "# -- AreaQ (area of abnormal mass or nodule in measurement of 1-10)\n",
    "# -- Alkhol (how many times alcohol is consumed in a week)\n",
    "\n",
    "age = 57\n",
    "smokes = 12\n",
    "areaq = 4\n",
    "alkhol = 1\n",
    "\n",
    "# Result: the predicted attribute -- diagnosis of lung cancer \n",
    "# -- 0: No/Low chance of lung cancer\n",
    "# -- 1: Have/High chance of lung cancer\n",
    "\n",
    "# Use the same scaler factors on the new data\n",
    "scaler = preprocessing.StandardScaler()\n",
    "features_scaled = scaler.fit_transform(features)\n",
    "\n",
    "# features_scaled = scaler.transform(features)\n",
    "data = np.array([[age, smokes, areaq, alkhol]])\n",
    "data_scaled = scaler.transform(data)\n",
    "data_scaled"
   ]
  },
  {
   "cell_type": "code",
   "execution_count": 37,
   "metadata": {},
   "outputs": [
    {
     "name": "stdout",
     "output_type": "stream",
     "text": [
      "[1]\n",
      "High chance of lung cancer\n"
     ]
    }
   ],
   "source": [
    "# Make a prediction against prediction features\n",
    "prediction = gnb_model.predict(data_scaled)\n",
    "print(prediction)\n",
    "\n",
    "if prediction == 0:\n",
    "    print(\"Low chance of lung cancer\")\n",
    "elif prediction == 1:\n",
    "    print(\"High chance of lung cancer\")\n",
    "else:\n",
    "    print(\"Unable to make a prediction\")"
   ]
  }
 ],
 "metadata": {
  "kernelspec": {
   "display_name": "Python 3",
   "language": "python",
   "name": "python3"
  },
  "language_info": {
   "codemirror_mode": {
    "name": "ipython",
    "version": 3
   },
   "file_extension": ".py",
   "mimetype": "text/x-python",
   "name": "python",
   "nbconvert_exporter": "python",
   "pygments_lexer": "ipython3",
   "version": "3.6.5"
  }
 },
 "nbformat": 4,
 "nbformat_minor": 2
}
